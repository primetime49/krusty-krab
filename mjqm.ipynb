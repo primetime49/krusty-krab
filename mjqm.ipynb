{
 "cells": [
  {
   "cell_type": "code",
   "execution_count": 120,
   "id": "68559f7c",
   "metadata": {},
   "outputs": [],
   "source": [
    "import numpy as np\n",
    "import math"
   ]
  },
  {
   "cell_type": "code",
   "execution_count": 200,
   "id": "632672ea",
   "metadata": {},
   "outputs": [],
   "source": [
    "N = 4\n",
    "T = 2\n",
    "arr_rate = 10\n",
    "ps = 0.9\n",
    "pb = 0.1\n",
    "lambda_s = int(arr_rate*ps)\n",
    "lambda_b = int(arr_rate*pb)\n",
    "mu_s = 5\n",
    "mu_b = 2"
   ]
  },
  {
   "cell_type": "code",
   "execution_count": 214,
   "id": "1c83c547",
   "metadata": {
    "scrolled": true
   },
   "outputs": [
    {
     "name": "stdout",
     "output_type": "stream",
     "text": [
      "9\n",
      "5\n",
      "[[0. 0. 0. 0. 0. 0. 0. 0. 0.]\n",
      " [0. 0. 0. 0. 0. 0. 0. 0. 0.]\n",
      " [0. 0. 0. 0. 0. 0. 0. 0. 0.]\n",
      " [0. 0. 0. 0. 0. 0. 0. 0. 0.]\n",
      " [0. 0. 0. 0. 0. 0. 0. 0. 0.]\n",
      " [0. 0. 0. 0. 0. 0. 0. 0. 0.]\n",
      " [0. 0. 0. 0. 0. 0. 0. 0. 0.]\n",
      " [0. 0. 0. 0. 0. 0. 0. 0. 0.]\n",
      " [0. 0. 0. 0. 0. 0. 0. 0. 0.]]\n"
     ]
    },
    {
     "data": {
      "text/plain": [
       "{(0, 2): 0, (1, 1): 1, (2, 1): 2, (3, 0): 3, (4, 0): 4}"
      ]
     },
     "execution_count": 214,
     "metadata": {},
     "output_type": "execute_result"
    }
   ],
   "source": [
    "d1 = int(N + ((N*N)/(2*T)) - (N/2) + (N/T) + 1)\n",
    "d2 = int((T)*(N/T) + 1)\n",
    "print(d1)\n",
    "print(d2)\n",
    "\n",
    "q = np.zeros((d1,d1))\n",
    "print(q)\n",
    "\n",
    "def access_q(n1,s1,b1,n2,s2,b2):\n",
    "    global q\n",
    "    q_dim = ((q.shape[0]-d1)/d2)\n",
    "    if n1 > q_dim:\n",
    "        #extra = int((n1 - (int(q.shape[0]/d1)-1))*d1)\n",
    "        extra = d2\n",
    "        \n",
    "        cc = q.shape[1]\n",
    "        q = np.append(q,np.zeros((extra,cc)), axis=0)\n",
    "        cr = q.shape[0]\n",
    "        q = np.append(q,np.zeros((cr,extra)), axis=1)\n",
    "    elif n2 > q_dim:\n",
    "        #extra = int((n2 - (int(q.shape[0]/d1)-1))*d1)\n",
    "        extra = d2\n",
    "        #print(extra)\n",
    "        \n",
    "        cc = q.shape[1]\n",
    "        q = np.append(q,np.zeros((extra,cc)), axis=0)\n",
    "        cr = q.shape[0]\n",
    "        q = np.append(q,np.zeros((cr,extra)), axis=1)\n",
    "    \n",
    "    \n",
    "    row = access_map[(s1,b1)]\n",
    "    col = access_map[(s2,b2)]\n",
    "    if (n1>0):\n",
    "        row = d1 + ((n1-1)*d2) + access_map_v2[(s1,b1)]\n",
    "    if (n2>0):\n",
    "        col = d1 + ((n2-1)*d2) + access_map_v2[(s2,b2)]\n",
    "    return((row,col))\n",
    "    \n",
    "\n",
    "access_map = dict()\n",
    "i = 0\n",
    "for s in range(N+1):\n",
    "    for b in range(int(N/T)+1):\n",
    "        if (s+(b*T)) <= N:\n",
    "            access_map[(s,b)] = i\n",
    "            i = i+1\n",
    "            \n",
    "access_map_v2 = dict()\n",
    "i = 0\n",
    "for s in range(N+1):\n",
    "    for b in range(int(N/T)+1):\n",
    "        if (s+(b*T)) > (N-T) and (s+(b*T)) <= N:\n",
    "            access_map_v2[(s,b)] = i\n",
    "            i = i+1\n",
    "access_map_v2"
   ]
  },
  {
   "cell_type": "code",
   "execution_count": 191,
   "id": "f7ab3e6c",
   "metadata": {},
   "outputs": [],
   "source": [
    "def init_transitions_arr():\n",
    "    global q\n",
    "    for n in range(10):\n",
    "        for s in range(N+1):\n",
    "            for b in range (N+1):\n",
    "                if (s+(b*T)) == N:\n",
    "                    r,c = access_q(n,s,b, n+1,s,b)\n",
    "                    q[r,c] = arr_rate\n",
    "                if (s+(b*T)) <= (N-T) and n == 0:\n",
    "                    r,c = access_q(0,s,b, 0,s+1,b)\n",
    "                    q[r,c] = lambda_s\n",
    "                    r,c = access_q(0,s,b, 0,s,b+1)\n",
    "                    q[r,c] = lambda_b\n",
    "                elif (s+(b*T)) > (N-T) and (s+(b*T)) < N and n == 0:\n",
    "                    r,c = access_q(0,s,b, 0,s+1,b)\n",
    "                    q[r,c] = lambda_s\n",
    "                    r,c = access_q(0,s,b, 1,s,b)\n",
    "                    q[r,c] = lambda_b\n",
    "                        \n",
    "def init_transitions_srv():\n",
    "    global q\n",
    "    for n in range(10):\n",
    "        for s in range(N+1):\n",
    "            for b in range (N+1):\n",
    "                F = N - (b*T) - s\n",
    "                \n",
    "                if n > 0 and (s+(b*T)) == N:\n",
    "                    K = min(n,T)\n",
    "                    if s > 0:\n",
    "                        r,c = access_q(n,s,b, n-1,s,b)\n",
    "                        q[r,c] = q[r,c] + (s*mu_s*ps)\n",
    "\n",
    "                        r,c = access_q(n,s,b, n,s-1,b)\n",
    "                        q[r,c] = q[r,c] + (s*mu_s*pb)\n",
    "                    if b > 0:\n",
    "                        r,c = access_q(n,s,b, n-1,s,b)\n",
    "                        q[r,c] = q[r,c] + (b*mu_b*pb)\n",
    "                        \n",
    "                        for i in range(1,K):\n",
    "                            r,c = access_q(n,s,b, n-i,s+i,b-1)\n",
    "                            q[r,c] = q[r,c] + (b*mu_b*math.pow(ps,i)*pb)\n",
    "                        \n",
    "                        r,c = access_q(n,s,b, n-K,s+K,b-1)\n",
    "                        q[r,c] = q[r,c] + (b*mu_b*math.pow(ps,K))\n",
    "                \n",
    "    \n",
    "                elif n > 0 and F > 0 and F < (T-1):\n",
    "                    K = min(F,n-1)\n",
    "                    if s > 0:\n",
    "                        r,c = access_q(n,s,b, n,s-1,b)\n",
    "                        q[r,c] = q[r,c] + (s*mu_s)\n",
    "                    if b > 0:\n",
    "                        for i in range(0,K):\n",
    "                            r,c = access_q(n,s,b, n-i-1,s+i,b)\n",
    "                            q[r,c] = q[r,c] + (b*mu_b*math.pow(ps,i)*pb)\n",
    "                            \n",
    "                        r,c = access_q(n,s,b, n-K-1,s+K,b)\n",
    "                        q[r,c] = q[r,c] + (b*mu_b*math.pow(ps,K))\n",
    "                    \n",
    "                elif n > 0 and F == (T-1):\n",
    "                    K = min(F,n-1)\n",
    "                    if s > 0:\n",
    "                        r,c = access_q(n,s,b, n-1,s-1,b+1)\n",
    "                        q[r,c] = q[r,c] + (s*mu_s)\n",
    "                    if b > 0:\n",
    "                        for i in range(0,K):\n",
    "                            r,c = access_q(n,s,b, n-i-1,s+i,b)\n",
    "                            q[r,c] = q[r,c] + (b*mu_b*math.pow(ps,i)*pb)\n",
    "                            \n",
    "                        r,c = access_q(n,s,b, n-K-1,s+K,b)\n",
    "                        q[r,c] = q[r,c] + (b*mu_b*math.pow(ps,K))\n",
    "                        \n",
    "                elif n == 0 and (s+(b*T)) <= N:\n",
    "                    if s > 0:\n",
    "                        r,c = access_q(0,s,b, 0,s-1,b)\n",
    "                        q[r,c] = q[r,c] + (s*mu_s)\n",
    "                    if b > 0:\n",
    "                        r,c = access_q(0,s,b, 0,s,b-1)\n",
    "                        q[r,c] = q[r,c] + (b*mu_b)\n",
    "\n",
    "def fill_diagonal():\n",
    "    for i in range(q.shape[0]):\n",
    "        q[i,i] = -(np.sum(q[i]))"
   ]
  },
  {
   "cell_type": "code",
   "execution_count": 215,
   "id": "abf55027",
   "metadata": {},
   "outputs": [],
   "source": [
    "init_transitions_arr()\n",
    "init_transitions_srv()\n",
    "fill_diagonal()"
   ]
  },
  {
   "cell_type": "code",
   "execution_count": 210,
   "id": "05939200",
   "metadata": {},
   "outputs": [
    {
     "data": {
      "text/plain": [
       "0.4"
      ]
     },
     "execution_count": 210,
     "metadata": {},
     "output_type": "execute_result"
    }
   ],
   "source": [
    "r,c = access_q(2,0,2,1,0,2)\n",
    "q[r,c]"
   ]
  },
  {
   "cell_type": "code",
   "execution_count": 226,
   "id": "abb88e56",
   "metadata": {},
   "outputs": [
    {
     "data": {
      "text/plain": [
       "array([[0.  , 0.  , 3.24, 0.  , 0.  ],\n",
       "       [0.  , 0.  , 1.8 , 0.  , 0.  ],\n",
       "       [0.  , 0.  , 0.  , 0.  , 1.62],\n",
       "       [0.  , 0.  , 0.  , 0.  , 0.  ],\n",
       "       [0.  , 0.  , 0.  , 0.  , 0.  ]])"
      ]
     },
     "execution_count": 226,
     "metadata": {},
     "output_type": "execute_result"
    }
   ],
   "source": [
    "diag = d1 + (d2*T)\n",
    "\n",
    "Bs = []\n",
    "for i in range(1,T+1):\n",
    "    block = q[diag:diag+d2, diag-(d2*i):diag-(d2*i)+d2]\n",
    "    Bs.append(block)\n",
    "    \n",
    "L = q[diag:diag+d2, diag:diag+d2]\n",
    "F = q[diag:diag+d2, diag+d2:diag+d2+d2]\n",
    "Bs[1]"
   ]
  },
  {
   "cell_type": "code",
   "execution_count": 308,
   "id": "c0d2dab2",
   "metadata": {
    "scrolled": true
   },
   "outputs": [
    {
     "data": {
      "text/plain": [
       "[array([0.08295999, 0.03796973, 0.00874593, 0.15073208, 0.0675386 ,\n",
       "        0.13792642, 0.05938492, 0.08554465, 0.04103039]),\n",
       " array([0.00815642, 0.01624214, 0.04259487, 0.00911786, 0.02287342]),\n",
       " array([0.00724505, 0.0047665 , 0.0304248 , 0.00208508, 0.01366579]),\n",
       " array([0.00623852, 0.00347422, 0.02191462, 0.00134252, 0.00863376]),\n",
       " array([0.00525987, 0.00255698, 0.01594565, 0.00090633, 0.00574187]),\n",
       " array([0.00436943, 0.00190104, 0.01172908, 0.00063643, 0.00398834]),\n",
       " array([0.00359095, 0.00142737, 0.00872125, 0.00046097, 0.00286768]),\n",
       " array([0.00292787, 0.00108157, 0.00655143, 0.00034183, 0.00211664]),\n",
       " array([0.00237311, 0.00082629, 0.00496753, 0.00025794, 0.00159278]),\n",
       " array([0.00191485, 0.00063578, 0.00379772, 0.00019716, 0.00121556]),\n",
       " array([0.00153981, 0.00049218, 0.0029241 , 0.00015214, 0.0009372 ]),\n",
       " array([0.00123498, 0.00038296, 0.00226503, 0.00011823, 0.00072799]),\n",
       " array([9.88486595e-04, 2.99233202e-04, 1.76332494e-03, 9.23534523e-05,\n",
       "        5.68593009e-04]),\n",
       " array([7.89956800e-04, 2.34615108e-04, 1.37842095e-03, 7.24287729e-05,\n",
       "        4.45911449e-04]),\n",
       " array([6.30533818e-04, 1.84463148e-04, 1.08115944e-03, 5.69734349e-05,\n",
       "        3.50773137e-04]),\n",
       " array([5.02809235e-04, 1.45356353e-04, 8.50306959e-04, 4.49191102e-05,\n",
       "        2.76574921e-04]),\n",
       " array([4.00662418e-04, 1.14745229e-04, 6.70204512e-04, 3.54778999e-05,\n",
       "        2.18459069e-04]),\n",
       " array([3.19083809e-04, 9.07095968e-05, 5.29168683e-04, 2.80594297e-05,\n",
       "        1.72790599e-04]),\n",
       " array([2.54001539e-04, 7.17897070e-05, 4.18390276e-04, 2.22157586e-05,\n",
       "        1.36813281e-04]),\n",
       " array([2.02123065e-04, 5.68668486e-05, 3.31165656e-04, 1.76036485e-05,\n",
       "        1.08415613e-04])]"
      ]
     },
     "execution_count": 308,
     "metadata": {},
     "output_type": "execute_result"
    }
   ],
   "source": [
    "L_inv = np.linalg.inv(L)\n",
    "V = np.matmul(F,L_inv)\n",
    "Ws = []\n",
    "for B in Bs:\n",
    "    W = np.matmul(B,L_inv)\n",
    "    Ws.append(W)\n",
    "Ws\n",
    "\n",
    "Rs = [np.zeros((d2,d2))]\n",
    "for i in range(100):\n",
    "    R = -V\n",
    "    j = 2\n",
    "    for W in Ws:\n",
    "        R = np.add(R,-(np.matmul(np.linalg.matrix_power(Rs[i],j),W)))\n",
    "        j += 1\n",
    "    Rs.append(R)\n",
    "R = Rs[-1]\n",
    "\n",
    "#\n",
    "tl = q[0:d1,0:d1]\n",
    "tr = q[0:d1,d1:d1+d2]\n",
    "bl = q[d1:d1+d2,0:d1]\n",
    "for i in range(T-1):\n",
    "    b = q[d1+((i+1)*d2) : d1+((i+1)*d2)+d2 , 0:d1]\n",
    "    bl = np.add(bl,np.matmul(np.linalg.matrix_power(R,i+1),b))\n",
    "br = L\n",
    "i = 1\n",
    "for b in Bs:\n",
    "    br = np.add(br,np.matmul(np.linalg.matrix_power(R,i),b))\n",
    "br\n",
    "\n",
    "#\n",
    "bc = np.append(tl,tr,axis=1)\n",
    "bcb = np.append(bl,br,axis=1)\n",
    "bc = np.append(bc,bcb,axis=0)\n",
    "\n",
    "#\n",
    "a = np.transpose(bc)\n",
    "b = np.zeros(d1+d2)\n",
    "b[-1] = 1\n",
    "pi = np.linalg.solve(a,b)\n",
    "pi\n",
    "\n",
    "#\n",
    "ir = np.linalg.inv(np.subtract(np.identity(R.shape[0]),R))\n",
    "r = np.matmul(pi[d1:],ir)\n",
    "alfa = np.sum(pi[:d1]) + np.sum(r)\n",
    "pi = pi/alfa\n",
    "pis = [pi[:d1],pi[d1:]]\n",
    "for i in range(2,20):\n",
    "    pis.append(np.matmul(pis[i-1],R))\n",
    "pis"
   ]
  },
  {
   "cell_type": "code",
   "execution_count": 216,
   "id": "a4c3ebca",
   "metadata": {},
   "outputs": [],
   "source": [
    "np.savetxt(\"q.csv\", q,\n",
    "              delimiter = \",\")"
   ]
  },
  {
   "cell_type": "code",
   "execution_count": 309,
   "id": "de7baf7e",
   "metadata": {},
   "outputs": [
    {
     "data": {
      "text/plain": [
       "0.9972401525546938"
      ]
     },
     "execution_count": 309,
     "metadata": {},
     "output_type": "execute_result"
    }
   ],
   "source": [
    "sum([np.sum(pi) for pi in pis])"
   ]
  },
  {
   "cell_type": "code",
   "execution_count": null,
   "id": "fbc36706",
   "metadata": {},
   "outputs": [],
   "source": []
  }
 ],
 "metadata": {
  "kernelspec": {
   "display_name": "Python 3 (ipykernel)",
   "language": "python",
   "name": "python3"
  },
  "language_info": {
   "codemirror_mode": {
    "name": "ipython",
    "version": 3
   },
   "file_extension": ".py",
   "mimetype": "text/x-python",
   "name": "python",
   "nbconvert_exporter": "python",
   "pygments_lexer": "ipython3",
   "version": "3.8.10"
  }
 },
 "nbformat": 4,
 "nbformat_minor": 5
}
