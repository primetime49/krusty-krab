{
 "cells": [
  {
   "cell_type": "code",
   "execution_count": null,
   "id": "d516f480",
   "metadata": {},
   "outputs": [],
   "source": [
    "import numpy as np\n",
    "import queue\n",
    "from statistics import mean\n",
    "import matplotlib.pyplot as plt"
   ]
  },
  {
   "cell_type": "code",
   "execution_count": null,
   "id": "31aa7e83",
   "metadata": {},
   "outputs": [],
   "source": [
    "arr_rate = 2\n",
    "srv_rate = 4\n",
    "duration = 3600\n",
    "t = 0\n",
    "jobs_iat = []\n",
    "while t <= duration:\n",
    "    iat = np.random.exponential(1/arr_rate)\n",
    "    t += iat\n",
    "    jobs_iat.append(iat)\n",
    "jobs_iat"
   ]
  },
  {
   "cell_type": "code",
   "execution_count": null,
   "id": "389680dc",
   "metadata": {},
   "outputs": [],
   "source": [
    "\n",
    "jobs_st = []\n",
    "for i in jobs_iat:\n",
    "    st = np.random.exponential(1/srv_rate)\n",
    "    jobs_st.append(st)\n",
    "jobs_st"
   ]
  },
  {
   "cell_type": "code",
   "execution_count": null,
   "id": "1519379f",
   "metadata": {},
   "outputs": [],
   "source": [
    "i = 0\n",
    "waiting_times = []\n",
    "response_times = []\n",
    "queue = []\n",
    "in_service = [0,0] #[service_start,end]\n",
    "busy_times = []\n",
    "queue_size = [[0,0]]\n",
    "t = 0\n",
    "\n",
    "for job in jobs_iat:\n",
    "    t += jobs_iat[i]\n",
    "    st = np.random.exponential(1/srv_rate)\n",
    "    print(t)\n",
    "    if t > in_service[1] and len(queue) > 0: #server is empty, but there jobs waiting in queue\n",
    "        #fifoing the existing queue retroactively\n",
    "        while(t>in_service[1] and len(queue) > 0):\n",
    "            popped = queue.pop(0)\n",
    "            pop_st = popped[0]\n",
    "            start_queue = popped[1]\n",
    "            queue_size.append([in_service[1],len(queue)])\n",
    "            waiting_times.append(in_service[1]-start_queue)\n",
    "            in_service = [in_service[1], in_service[1]+pop_st]\n",
    "            busy_times.append(in_service)\n",
    "            response_times.append(in_service[1]-start_queue)\n",
    "            print(in_service)\n",
    "            print(start_queue)\n",
    "            print('---------')\n",
    "    if t > in_service[1] and len(queue) == 0: #server is (still) empty and queue is also empty\n",
    "       #get in service\n",
    "        waiting_times.append(0)\n",
    "        in_service = [t,t+st]\n",
    "        busy_times.append(in_service)\n",
    "        response_times.append(st)\n",
    "        print(in_service) \n",
    "    else: #server is busy, regardless of queue\n",
    "        queue.append([st,t])\n",
    "        queue_size.append([t,len(queue)])\n",
    "    i += 1\n",
    "#queueing_times"
   ]
  },
  {
   "cell_type": "code",
   "execution_count": null,
   "id": "d7e70546",
   "metadata": {},
   "outputs": [],
   "source": [
    "busy_times"
   ]
  },
  {
   "cell_type": "code",
   "execution_count": null,
   "id": "a521fc71",
   "metadata": {},
   "outputs": [],
   "source": [
    "idle_times = [[0,busy_times[0][0]]]\n",
    "for i in range(1,len(busy_times)):\n",
    "    if busy_times[i][0] != busy_times[i-1][1]:\n",
    "        idle_times.append([busy_times[i-1][1],busy_times[i][0]])\n",
    "        \n",
    "idle_times"
   ]
  },
  {
   "cell_type": "code",
   "execution_count": null,
   "id": "a07e9f87",
   "metadata": {},
   "outputs": [],
   "source": [
    "jump_times = [[0,0]]\n",
    "\n",
    "i = 1\n",
    "j = 0\n",
    "while i < len(idle_times) and j < len(busy_times):\n",
    "    i = min(i,len(idle_times)-1)\n",
    "    j = min(j,len(busy_times)-1)\n",
    "    if idle_times[i][0] < busy_times[j][0]:\n",
    "        if jump_times[-1][1] == 1:\n",
    "            jump_times.append([idle_times[i][0],0])\n",
    "        i+=1\n",
    "    else:\n",
    "        if jump_times[-1][1] == 0:\n",
    "            jump_times.append([busy_times[j][0],1])\n",
    "        j+=1"
   ]
  },
  {
   "cell_type": "code",
   "execution_count": null,
   "id": "4860db3f",
   "metadata": {},
   "outputs": [],
   "source": [
    "start_t = 0\n",
    "end_t = 25\n",
    "\n",
    "tmp_jump = []\n",
    "tmp_queue = []\n",
    "for j in jump_times:\n",
    "    if j[0] < start_t:\n",
    "        continue\n",
    "    if j[0] > end_t:\n",
    "        break\n",
    "    tmp_jump.append(j)\n",
    "tmp_jump.append([end_t,tmp_jump[-1][1]])\n",
    "\n",
    "for q in queue_size:\n",
    "    if q[0] < start_t:\n",
    "        continue\n",
    "    if q[0] > end_t:\n",
    "        break\n",
    "    tmp_queue.append(q)\n",
    "tmp_queue.append([end_t,tmp_queue[-1][1]])\n",
    "\n",
    "plt.figure(figsize=(17,5))\n",
    "plt.step([q[0] for q in tmp_jump], [q[1] for q in tmp_jump], 'r', where='post', label = 'Server busy')\n",
    "plt.step([q[0] for q in tmp_queue], [q[1] for q in tmp_queue], 'b', where='post', label = 'Queue size')\n",
    "plt.legend()\n",
    "plt.show()"
   ]
  },
  {
   "cell_type": "code",
   "execution_count": null,
   "id": "2a062d3d",
   "metadata": {},
   "outputs": [],
   "source": [
    "tmp_queue"
   ]
  },
  {
   "cell_type": "code",
   "execution_count": null,
   "id": "85345772",
   "metadata": {},
   "outputs": [],
   "source": [
    "jump_times"
   ]
  },
  {
   "cell_type": "code",
   "execution_count": null,
   "id": "3f516741",
   "metadata": {},
   "outputs": [],
   "source": [
    "server_state"
   ]
  },
  {
   "cell_type": "code",
   "execution_count": null,
   "id": "14663b75",
   "metadata": {},
   "outputs": [],
   "source": [
    "mean(waiting_times)"
   ]
  },
  {
   "cell_type": "code",
   "execution_count": null,
   "id": "2531a0c4",
   "metadata": {},
   "outputs": [],
   "source": [
    "mean(response_times)"
   ]
  },
  {
   "cell_type": "code",
   "execution_count": null,
   "id": "64230757",
   "metadata": {},
   "outputs": [],
   "source": [
    "avg_wait = []\n",
    "n = 1\n",
    "tot = 0\n",
    "for w in waiting_times:\n",
    "    tot += w\n",
    "    avg_wait.append(tot/n)\n",
    "    n += 1\n",
    "\n",
    "avg_resp = []\n",
    "n = 1\n",
    "tot = 0\n",
    "for w in response_times:\n",
    "    tot += w\n",
    "    avg_resp.append(tot/n)\n",
    "    n += 1\n",
    "\n",
    "avg_resp"
   ]
  },
  {
   "cell_type": "code",
   "execution_count": null,
   "id": "bb9c75d5",
   "metadata": {},
   "outputs": [],
   "source": [
    "plt.figure(figsize=(15,10))\n",
    "plt.plot([i for i in range(len(avg_wait))], avg_wait, label = \"Avg Wait Times\")\n",
    "plt.plot([i for i in range(len(avg_resp))], avg_resp, label = \"Avg Response Times\")\n",
    "plt.legend()\n",
    "plt.show()"
   ]
  },
  {
   "cell_type": "code",
   "execution_count": null,
   "id": "ff5d50ee",
   "metadata": {},
   "outputs": [],
   "source": []
  }
 ],
 "metadata": {
  "kernelspec": {
   "display_name": "Python 3 (ipykernel)",
   "language": "python",
   "name": "python3"
  },
  "language_info": {
   "codemirror_mode": {
    "name": "ipython",
    "version": 3
   },
   "file_extension": ".py",
   "mimetype": "text/x-python",
   "name": "python",
   "nbconvert_exporter": "python",
   "pygments_lexer": "ipython3",
   "version": "3.8.10"
  }
 },
 "nbformat": 4,
 "nbformat_minor": 5
}
